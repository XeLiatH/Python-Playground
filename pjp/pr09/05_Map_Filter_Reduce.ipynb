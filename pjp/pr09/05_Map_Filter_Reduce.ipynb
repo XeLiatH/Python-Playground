{
 "cells": [
  {
   "cell_type": "markdown",
   "metadata": {},
   "source": [
    "# Python a funkce map, reduce a filter"
   ]
  },
  {
   "cell_type": "markdown",
   "metadata": {},
   "source": [
    "Krátké vysvětlení využití fukncí map, filter a reduce v Pythonu včetně ukázek alternativní syntaxe."
   ]
  },
  {
   "cell_type": "markdown",
   "metadata": {},
   "source": [
    "### Začněme funkcí **map**.\n",
    "\n",
    "Tu používáme vždy, když chceme na všechny prvky nějakého seznamu (či obecně jakéhokoliv iterátoru) aplikovat nějakou jinou funkci. Například chceme list čísel zkonvertovat na list řetězců. \n",
    "\n",
    "Klasický imperativní přístup je přes forcyklus:"
   ]
  },
  {
   "cell_type": "code",
   "execution_count": 1,
   "metadata": {},
   "outputs": [
    {
     "data": {
      "text/plain": [
       "['10', '20', '30']"
      ]
     },
     "execution_count": 1,
     "metadata": {},
     "output_type": "execute_result"
    }
   ],
   "source": [
    "cisla = [10, 20, 30]\n",
    "znaky = []\n",
    "for cis in cisla:\n",
    "    znaky.append(str(cis))\n",
    "    \n",
    "znaky    "
   ]
  },
  {
   "cell_type": "markdown",
   "metadata": {},
   "source": [
    "Stejný výsledek dostaneme také pomocí generátoru seznamů, což je způsob v Pythonu preferovaný a doporučovaný."
   ]
  },
  {
   "cell_type": "code",
   "execution_count": 2,
   "metadata": {},
   "outputs": [
    {
     "data": {
      "text/plain": [
       "['10', '20', '30']"
      ]
     },
     "execution_count": 2,
     "metadata": {},
     "output_type": "execute_result"
    }
   ],
   "source": [
    "cisla = [10, 20, 30]\n",
    "znaky = [str(cis) for cis in cisla]\n",
    "znaky"
   ]
  },
  {
   "cell_type": "markdown",
   "metadata": {},
   "source": [
    "Kód je kratší, pokud znáte syntax tak i přehlednější. A také běží rychleji. \n",
    "\n",
    "Ještě kratší zápis je v tomto případě použití funkce **map**. Pozor na to, že funkce vrací iterátor - pokud chceme list, musíme na něj iterátor převést."
   ]
  },
  {
   "cell_type": "code",
   "execution_count": 3,
   "metadata": {},
   "outputs": [
    {
     "data": {
      "text/plain": [
       "<map at 0x7ff3704e3710>"
      ]
     },
     "execution_count": 3,
     "metadata": {},
     "output_type": "execute_result"
    }
   ],
   "source": [
    "cisla = [10, 20, 30]\n",
    "znaky = map(str, cisla)\n",
    "znaky"
   ]
  },
  {
   "cell_type": "code",
   "execution_count": 4,
   "metadata": {},
   "outputs": [
    {
     "data": {
      "text/plain": [
       "['10', '20', '30']"
      ]
     },
     "execution_count": 4,
     "metadata": {},
     "output_type": "execute_result"
    }
   ],
   "source": [
    "list(znaky)"
   ]
  },
  {
   "cell_type": "markdown",
   "metadata": {},
   "source": [
    "### Filter filtruje...\n",
    "\n",
    "Funkce filter má stejně jako map svou funkcionalitu už v názvu. Umožňuje nám vybrat z původního iterátoru jen určité hodnoty. \n",
    "\n",
    "Například ze seznamu čísel vypsat pouze ta, která jsou dělitelná 20:"
   ]
  },
  {
   "cell_type": "code",
   "execution_count": 5,
   "metadata": {},
   "outputs": [
    {
     "data": {
      "text/plain": [
       "['20']"
      ]
     },
     "execution_count": 5,
     "metadata": {},
     "output_type": "execute_result"
    }
   ],
   "source": [
    "cisla = [10, 20, 30]\n",
    "result = []\n",
    "for cis in cisla:\n",
    "    if cis % 20 == 0:\n",
    "      result.append(str(cis))\n",
    "result    "
   ]
  },
  {
   "cell_type": "markdown",
   "metadata": {},
   "source": [
    "List generátor bude opět kratší."
   ]
  },
  {
   "cell_type": "code",
   "execution_count": 6,
   "metadata": {},
   "outputs": [
    {
     "data": {
      "text/plain": [
       "[20]"
      ]
     },
     "execution_count": 6,
     "metadata": {},
     "output_type": "execute_result"
    }
   ],
   "source": [
    "cisla = [10, 20, 30]\n",
    "result = [cis for cis in cisla if cis % 20 == 0]\n",
    "result"
   ]
  },
  {
   "cell_type": "markdown",
   "metadata": {},
   "source": [
    "A konečně **filter**, pro který ale budeme potřebovat nějakou filtrovací funkci. Tu si můžeme definovat předem a nebo můžeme použít lambda funkci."
   ]
  },
  {
   "cell_type": "code",
   "execution_count": 7,
   "metadata": {},
   "outputs": [
    {
     "data": {
      "text/plain": [
       "<filter at 0x7ff3704e3c88>"
      ]
     },
     "execution_count": 7,
     "metadata": {},
     "output_type": "execute_result"
    }
   ],
   "source": [
    "cisla = [10, 20, 30]\n",
    "result = filter(lambda x: x % 20 == 0, cisla)\n",
    "result"
   ]
  },
  {
   "cell_type": "code",
   "execution_count": 8,
   "metadata": {},
   "outputs": [
    {
     "data": {
      "text/plain": [
       "[20]"
      ]
     },
     "execution_count": 8,
     "metadata": {},
     "output_type": "execute_result"
    }
   ],
   "source": [
    "list(result)"
   ]
  },
  {
   "cell_type": "markdown",
   "metadata": {},
   "source": [
    "### Redukujeme\n",
    "\n",
    "Zbývá nám funkce **reduce**. Ta umožňuje zredukovat neboli zahustit původní seznam, většinou na jednu hodnotu. Například součin či součet původního listu. \n",
    "\n",
    "Generátor seznamů v tomto případě využít nemůžeme, protože jeho výsledkem je opět seznam. \n",
    "\n",
    "Proto je preferovaný Python zápis v tomto případě forcyklus. Takto rozepsaný kód nám také umožní pochopit co funkce reduce vlastně dělá."
   ]
  },
  {
   "cell_type": "code",
   "execution_count": 9,
   "metadata": {},
   "outputs": [],
   "source": [
    "cisla = [10, 20, 30]\n",
    "soucin = 1\n",
    "for cis in cisla:\n",
    "    soucin *= cis"
   ]
  },
  {
   "cell_type": "markdown",
   "metadata": {},
   "source": [
    "Postupně iterujeme přes všechny prvky seznamu čísel a každý z nich nějakou operací přidáme k předchozímu výsledku. V tomto případě násobíme, ale operace nad reálnými daty může být různá.\n",
    "\n",
    "**Reduce** se v Pythonu 3 přesunula z built-in funkcí do balíčku functools. Pomocí této funkce dosáhneme stejného výsledku, ale kód je opět kratší."
   ]
  },
  {
   "cell_type": "code",
   "execution_count": 10,
   "metadata": {},
   "outputs": [
    {
     "data": {
      "text/plain": [
       "6000"
      ]
     },
     "execution_count": 10,
     "metadata": {},
     "output_type": "execute_result"
    }
   ],
   "source": [
    "from operator import mul\n",
    "from functools import reduce\n",
    "\n",
    "cisla = [10, 20, 30]\n",
    "soucin = reduce(mul, cisla)\n",
    "soucin"
   ]
  },
  {
   "cell_type": "markdown",
   "metadata": {},
   "source": [
    "Místo operátoru  můžeme pochopitelně použít i lambda funkci:"
   ]
  },
  {
   "cell_type": "code",
   "execution_count": 11,
   "metadata": {},
   "outputs": [
    {
     "data": {
      "text/plain": [
       "6000"
      ]
     },
     "execution_count": 11,
     "metadata": {},
     "output_type": "execute_result"
    }
   ],
   "source": [
    "cisla = [10, 20, 30]\n",
    "soucin = reduce(lambda x,y:x*y, cisla)\n",
    "soucin"
   ]
  },
  {
   "cell_type": "markdown",
   "metadata": {},
   "source": [
    "### K čemu je to dobré?"
   ]
  },
  {
   "cell_type": "markdown",
   "metadata": {},
   "source": [
    "Funkce map, reduce a filter jsou základem pro řadu přístupů funkcionálního programování. I když lze stejnou funkcionalitu dosáhnout i jinak, vyplatí se jejich syntax znát. Jedna výhoda za všechny - v modulu multiprocess se nachází také funkce map. Ta ovšem umí pěkně využít všech 8 jader vašeho procesoru."
   ]
  },
  {
   "cell_type": "code",
   "execution_count": null,
   "metadata": {},
   "outputs": [],
   "source": []
  }
 ],
 "metadata": {
  "kernelspec": {
   "display_name": "Python 3",
   "language": "python",
   "name": "python3"
  },
  "language_info": {
   "codemirror_mode": {
    "name": "ipython",
    "version": 3
   },
   "file_extension": ".py",
   "mimetype": "text/x-python",
   "name": "python",
   "nbconvert_exporter": "python",
   "pygments_lexer": "ipython3",
   "version": "3.6.6"
  }
 },
 "nbformat": 4,
 "nbformat_minor": 2
}
