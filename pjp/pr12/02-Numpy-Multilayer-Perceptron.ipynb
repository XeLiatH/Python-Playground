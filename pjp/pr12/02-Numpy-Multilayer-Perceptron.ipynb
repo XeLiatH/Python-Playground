{
 "cells": [
  {
   "cell_type": "markdown",
   "metadata": {},
   "source": [
    "# Multilayer perceptron jako ukázka NumPy\n",
    "\n",
    "Ukázka možností knihovny NumPy - jednoduchý multilayer perceptron. \n",
    "\n",
    "Začneme základním importem:"
   ]
  },
  {
   "cell_type": "code",
   "execution_count": 36,
   "metadata": {},
   "outputs": [],
   "source": [
    "%matplotlib inline\n",
    "\n",
    "import numpy as np\n",
    "import matplotlib.pyplot as plt\n",
    "\n"
   ]
  },
  {
   "cell_type": "markdown",
   "metadata": {},
   "source": [
    "Budeme používat pseudonáhodný generátor pro počáteční nastavení vah. Abychom dostali při opakovaném spouštění programu stejné výsledky používáme metodu [numpy.random.seed()](https://docs.scipy.org/doc/numpy/reference/generated/numpy.random.seed.html) která nastaví počáteční pseudonáhodné rozložení."
   ]
  },
  {
   "cell_type": "code",
   "execution_count": 37,
   "metadata": {},
   "outputs": [],
   "source": [
    "np.random.seed(42)"
   ]
  },
  {
   "cell_type": "markdown",
   "metadata": {},
   "source": [
    "Pro aktivaci neuronů používáme aktivační funkci. \n",
    "Jednou ze základních možností je sigmoid. Pro jeho výpočet použijeme metodu [numpy.exp](https://docs.scipy.org/doc/numpy/reference/generated/numpy.exp.html).\n",
    "Stejně jako drtivá většina dalších funkcí v NumPy je to funkce vektorizovaná - automaticky umí pracovat s vektorem jako vstupem."
   ]
  },
  {
   "cell_type": "code",
   "execution_count": 38,
   "metadata": {},
   "outputs": [],
   "source": [
    "def sigmoid(vector):\n",
    "    \"\"\"\n",
    "    Sigmoid activation function - vectorized\n",
    "    \"\"\"\n",
    "    return 1 / (1 + np.exp(-vector))"
   ]
  },
  {
   "cell_type": "markdown",
   "metadata": {},
   "source": [
    "Sigmoid je zajímavý mimo jiné tím, že má velice jednoduchou derivaci. A protože derivace se využívá při trénování perceptronu budeme potřebovat i funkci pro výpočet derivace sigmoidu. Opět vše je vektorizované, jednička se tedy odečte od všech hodnot vektoru activation atd."
   ]
  },
  {
   "cell_type": "code",
   "execution_count": 39,
   "metadata": {},
   "outputs": [],
   "source": [
    "def sigmoid_deriv(activation):\n",
    "    \"\"\"\n",
    "    :param: activation - result of sigmoid activation function \n",
    "    derivative of sigmoid\n",
    "    \"\"\"\n",
    "    return activation * (1 - activation)"
   ]
  },
  {
   "cell_type": "markdown",
   "metadata": {},
   "source": [
    "Multilayer perceptron se skládá ze vstupní a výstupní vrstvy a dále určitého počtu skrytých vrstev (hidden layer).  **Jde vlastně o funkci, která mapuje hodnoty vstupy na výstup.**. V tomto případě budeme řešit jednoduchou regresi - pomocí trénovacích vytvoříme model funkce a pak jí využijeme pro odhad výsledku pro neznámé vstupy. Jde tedy o supervised learning - učení s učitelem. \n",
    "\n",
    "Pro jednoduchost příkladu použijeme pouze jednu skrytou vrstvu. Díky této jednoduché architektuře můžeme pro trénování perceptronu použít jen dvě funkce. \n",
    "\n",
    "Ve funkci **forward** provedeme výpočet vah a odhad finálního skóre. Z NumPy zde využijeme metodu pro výpočet skalárního součinu vektorů [numpy.dot()](https://docs.scipy.org/doc/numpy/reference/generated/numpy.dot.html)"
   ]
  },
  {
   "cell_type": "code",
   "execution_count": 51,
   "metadata": {},
   "outputs": [],
   "source": [
    "def forward(input, weights_1, weights_2):\n",
    "    \"\"\"\n",
    "    forward propagation through our network\n",
    "    \"\"\"\n",
    "    # dot product of X (input) and first set of 3x2 weights\n",
    "    z = np.dot(input, weights_1)\n",
    "    # sigmoid activation on first hidden layer\n",
    "    activation_1 = sigmoid(z)  \n",
    "    # dot product of hidden layer (z2) and second set of 3x1 weights\n",
    "    z2 = np.dot(activation_1, weights_2)\n",
    "    # output layer sigmoid activation\n",
    "    activation_out = sigmoid(z2)\n",
    "\n",
    "    return activation_1, activation_out\n"
   ]
  },
  {
   "cell_type": "markdown",
   "metadata": {},
   "source": [
    "Průchod zpět je okamžikem, kdy se stroj učí. Určíme chybu odhadu a tu následně použijeme pro úpravu vah na všech vrstvách. Tento algoritmus se jmenuje [Backpropagation](https://en.wikipedia.org/wiki/Backpropagation) a používá se i v těch nejsložitějších sítích současnosti. "
   ]
  },
  {
   "cell_type": "code",
   "execution_count": 52,
   "metadata": {},
   "outputs": [],
   "source": [
    "def backward(X, y, pred, weights_1, weights_2, activation_1):\n",
    "    # backward propgate through the network\n",
    "    pred_error = y - pred  # error in prediction\n",
    "    # applying derivative of sigmoid to error\n",
    "    o_delta = pred_error * sigmoid_deriv(pred)\n",
    "\n",
    "    # z2 error: how much our hidden layer weights contributed to output error\n",
    "    z2_error = o_delta.dot(weights_2.T)\n",
    "    # applying derivative of sigmoid to z2 error\n",
    "    z2_delta = z2_error * sigmoid_deriv(activation_1)\n",
    "\n",
    "    # adjusting first set (input --> hidden) weights\n",
    "    weights_1 += X.T.dot(z2_delta)\n",
    "    # adjusting second set (hidden --> output) weights\n",
    "    weights_2 += activation_1.T.dot(o_delta)\n",
    "\n",
    "    return weights_1, weights_2"
   ]
  },
  {
   "cell_type": "markdown",
   "metadata": {},
   "source": [
    "## Trénování sítě\n",
    "\n",
    "Zjednodušeně můžeme říct, že trénování sítě probíhá spočívá v opakovném střídání funkcí forward a backward. \n",
    "Periodicky necháváme síť odhadovat výsledek (forward) a následně\n",
    "upravujeme váhy tak aby odhad byl co nejpřesnější (backward). \n",
    "\n",
    "Z NumPy funkcí je zde použito [náhodné generování](https://docs.scipy.org/doc/numpy/reference/generated/numpy.random.randn.html) pro počáteční nastavení vah. \n",
    "A dále funkcí [np.mean](https://docs.scipy.org/doc/numpy/reference/generated/numpy.mean.html) a [np.square](https://docs.scipy.org/doc/numpy/reference/generated/numpy.square.html) pro výpočet [MSE](https://en.wikipedia.org/wiki/Mean_squared_error)"
   ]
  },
  {
   "cell_type": "code",
   "execution_count": 42,
   "metadata": {},
   "outputs": [],
   "source": [
    "def train(steps, X_train, y_train):\n",
    "\n",
    "    # (3x2) weight matrix from input to hidden layer\n",
    "    W1 = np.random.randn(INPUT_SIZE, HIDDEN_SIZE)\n",
    "    # (3x1) weight matrix from hidden to output layer\n",
    "    W2 = np.random.randn(HIDDEN_SIZE, OUTPUT_SIZE)\n",
    "\n",
    "    mses = []\n",
    "\n",
    "    for i in range(steps):\n",
    "        hidden, predict = forward(X_train, W1, W2)\n",
    "        W1, W2 = backward(X_train, y_train, predict, W1, W2, hidden)\n",
    "        MSE = np.mean(np.square(y - predict))\n",
    "        mses.append(MSE)\n",
    "        \n",
    "    return W1, W2, mses   "
   ]
  },
  {
   "cell_type": "code",
   "execution_count": 54,
   "metadata": {},
   "outputs": [],
   "source": [
    "def predict(X_test, weights_1, weights_2):\n",
    "\n",
    "    # Final prediction\n",
    "    print(\"Predicted data based on trained weights: \")\n",
    "    print(\"Input (scaled): \\n\" + str(X_test))\n",
    "    H, OUT = forward(X_test, weights_1, weights_2)\n",
    "    print(\"Output: \\n\" + str(OUT))\n",
    "\n"
   ]
  },
  {
   "cell_type": "markdown",
   "metadata": {},
   "source": [
    "## Data, parametry\n",
    "\n",
    "Máme všechny funkce které budeme potřebovat. Můžeme se tedy pustit do tréninku. \n",
    "\n",
    "Předpokládejme, že existuje matematický vztah mezi počtem hodin spánku, počtem hodin studia a výsledým počtem bodů v náročném testu další den. Ŕekněme, že stačí se hodně učit a hodně spát a dobrý výsledek je zaručen. Uznávám, že život je složitější... :)\n",
    "\n",
    "Pole X tedy představuje hodnoty vstupu - počet hodin studia a počet hodin spánku pro každého studenta. Pole y pak příslušný výsledek v testu. Hodnoty v obou polích jsou spárované přes index.\n",
    "\n",
    "První student tedy studoval dvě hodiny a následně devět hodin spal a v testu dosáhl 92 bodů ze 100 možných. A tak dále."
   ]
  },
  {
   "cell_type": "code",
   "execution_count": 56,
   "metadata": {},
   "outputs": [],
   "source": [
    "X = np.array(([2, 9], [1, 5], [3, 6], [0, 1], [5, 9]), dtype=float)\n",
    "y = np.array(([92], [51], [63], [11], [99]), dtype=float)"
   ]
  },
  {
   "cell_type": "markdown",
   "metadata": {},
   "source": [
    "Vstupní vrstva tedy bude potřebovat dva neurony - máme dva parametry. \n",
    "Výstupní vrstva bude jeden neuron - odhadujeme hodnotu skóre. \n",
    "Počet neuronů skryté vrstvy i počet skrytých vrstev už tak přesně určit nemůžeme - patří mezi parametry modelu, \n",
    "které můžeme zkoumat a ladit. Takže zde pro jednoduchost dáme tři neurony a víc to nebudeme řešit."
   ]
  },
  {
   "cell_type": "code",
   "execution_count": 58,
   "metadata": {},
   "outputs": [],
   "source": [
    "INPUT_SIZE = 2\n",
    "OUTPUT_SIZE = 1\n",
    "HIDDEN_SIZE = 3"
   ]
  },
  {
   "cell_type": "markdown",
   "metadata": {},
   "source": [
    "Protože hodnoty času mohou být na stupnici 0-24 a hodnoty testu na stupnici 0-100 provedeme jednoduché přeškálování čísel na hodnoty v rozsahu 0-1. "
   ]
  },
  {
   "cell_type": "code",
   "execution_count": 61,
   "metadata": {},
   "outputs": [],
   "source": [
    "X_test = np.array(([4, 8]), dtype=float)\n",
    "\n",
    "# scale units\n",
    "# maximum is 24 hours\n",
    "X = X / 24\n",
    "X_test = X_test / 24\n",
    "# max test score is 100\n",
    "y = y / 100"
   ]
  },
  {
   "cell_type": "markdown",
   "metadata": {},
   "source": [
    "A konečně provedeme trénink i odhad testovací hodnoty."
   ]
  },
  {
   "cell_type": "code",
   "execution_count": 62,
   "metadata": {},
   "outputs": [
    {
     "name": "stdout",
     "output_type": "stream",
     "text": [
      "Predicted data based on trained weights: \n",
      "Input (scaled): \n",
      "[0.16666667 0.33333333]\n",
      "Output: \n",
      "[0.01912366]\n"
     ]
    }
   ],
   "source": [
    "W1, W2, loss_values = train(1500, X, y)\n",
    "predict(X_test, W1, W2)"
   ]
  },
  {
   "cell_type": "markdown",
   "metadata": {},
   "source": [
    "Vizualizace toho, jak v průběhu tréninku klesá chyba. Při studiu modelů je potřeba vědět, co se děje."
   ]
  },
  {
   "cell_type": "code",
   "execution_count": 50,
   "metadata": {},
   "outputs": [
    {
     "data": {
      "image/png": "[encoded data removed]",
      "text/plain": [
       "<Figure size 1152x576 with 1 Axes>"
      ]
     },
     "metadata": {
      "needs_background": "light"
     },
     "output_type": "display_data"
    }
   ],
   "source": [
    "plt.plot(loss_values, label='MSE loss')\n",
    "plt.legend(loc='best')\n",
    "plt.rcParams['figure.figsize'] = (16,20)\n",
    "plt.grid()\n",
    "plt.show()\n"
   ]
  },
  {
   "cell_type": "code",
   "execution_count": null,
   "metadata": {},
   "outputs": [],
   "source": []
  }
 ],
 "metadata": {
  "kernelspec": {
   "display_name": "Python 3",
   "language": "python",
   "name": "python3"
  },
  "language_info": {
   "codemirror_mode": {
    "name": "ipython",
    "version": 3
   },
   "file_extension": ".py",
   "mimetype": "text/x-python",
   "name": "python",
   "nbconvert_exporter": "python",
   "pygments_lexer": "ipython3",
   "version": "3.6.6"
  }
 },
 "nbformat": 4,
 "nbformat_minor": 2
}
