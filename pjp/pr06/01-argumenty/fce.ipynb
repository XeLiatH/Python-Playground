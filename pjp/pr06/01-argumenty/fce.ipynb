{
 "cells": [
  {
   "cell_type": "code",
   "execution_count": 1,
   "metadata": {},
   "outputs": [],
   "source": [
    "def mfce(a, b, c):\n",
    "    print(a+b+c)"
   ]
  },
  {
   "cell_type": "code",
   "execution_count": 2,
   "metadata": {},
   "outputs": [
    {
     "name": "stdout",
     "output_type": "stream",
     "text": [
      "6\n"
     ]
    }
   ],
   "source": [
    "mfce(1,2,3)"
   ]
  },
  {
   "cell_type": "code",
   "execution_count": 3,
   "metadata": {},
   "outputs": [],
   "source": [
    "def mfce2(a, b=3, c=4):\n",
    "    print(a+b+c)"
   ]
  },
  {
   "cell_type": "code",
   "execution_count": 4,
   "metadata": {},
   "outputs": [
    {
     "name": "stdout",
     "output_type": "stream",
     "text": [
      "17\n"
     ]
    }
   ],
   "source": [
    "mfce2(10)"
   ]
  },
  {
   "cell_type": "code",
   "execution_count": 5,
   "metadata": {},
   "outputs": [
    {
     "name": "stdout",
     "output_type": "stream",
     "text": [
      "16\n"
     ]
    }
   ],
   "source": [
    "mfce2(10, 2)"
   ]
  },
  {
   "cell_type": "code",
   "execution_count": 8,
   "metadata": {},
   "outputs": [
    {
     "name": "stdout",
     "output_type": "stream",
     "text": [
      "113\n"
     ]
    }
   ],
   "source": [
    "mfce2(10, c=100)"
   ]
  },
  {
   "cell_type": "code",
   "execution_count": 9,
   "metadata": {},
   "outputs": [
    {
     "name": "stdout",
     "output_type": "stream",
     "text": [
      "1110\n"
     ]
    }
   ],
   "source": [
    "mfce2(b=10, c=100, a=1000)"
   ]
  },
  {
   "cell_type": "code",
   "execution_count": 11,
   "metadata": {},
   "outputs": [],
   "source": [
    "def mfce3(a, b):\n",
    "    print(locals())"
   ]
  },
  {
   "cell_type": "code",
   "execution_count": 12,
   "metadata": {},
   "outputs": [
    {
     "name": "stdout",
     "output_type": "stream",
     "text": [
      "{'b': 20, 'a': 10}\n"
     ]
    }
   ],
   "source": [
    "mfce3(10, 20)"
   ]
  },
  {
   "cell_type": "code",
   "execution_count": 13,
   "metadata": {},
   "outputs": [
    {
     "data": {
      "text/plain": [
       "{'__name__': '__main__',\n",
       " '__doc__': 'Automatically created module for IPython interactive environment',\n",
       " '__package__': None,\n",
       " '__loader__': None,\n",
       " '__spec__': None,\n",
       " '__builtin__': <module 'builtins' (built-in)>,\n",
       " '__builtins__': <module 'builtins' (built-in)>,\n",
       " '_ih': ['',\n",
       "  'def mfce(a, b, c):\\n    print(a+b+c)',\n",
       "  'mfce(1,2,3)',\n",
       "  'def mfce2(a, b=3, c=4):\\n    print(a+b+c)',\n",
       "  'mfce2(10)',\n",
       "  'mfce2(10, 2)',\n",
       "  'mfce()',\n",
       "  'mfce2()',\n",
       "  'mfce2(10, c=100)',\n",
       "  'mfce2(b=10, c=100, a=1000)',\n",
       "  'mfce2(b=10, c=100)',\n",
       "  'def mfce3(a, b):\\n    print(locals())',\n",
       "  'mfce3(10, 20)',\n",
       "  'locals()'],\n",
       " '_oh': {},\n",
       " '_dh': ['/home/albert/skola/vyuka/python/prednasky/pr06/01-argumenty'],\n",
       " 'In': ['',\n",
       "  'def mfce(a, b, c):\\n    print(a+b+c)',\n",
       "  'mfce(1,2,3)',\n",
       "  'def mfce2(a, b=3, c=4):\\n    print(a+b+c)',\n",
       "  'mfce2(10)',\n",
       "  'mfce2(10, 2)',\n",
       "  'mfce()',\n",
       "  'mfce2()',\n",
       "  'mfce2(10, c=100)',\n",
       "  'mfce2(b=10, c=100, a=1000)',\n",
       "  'mfce2(b=10, c=100)',\n",
       "  'def mfce3(a, b):\\n    print(locals())',\n",
       "  'mfce3(10, 20)',\n",
       "  'locals()'],\n",
       " 'Out': {},\n",
       " 'get_ipython': <bound method InteractiveShell.get_ipython of <ipykernel.zmqshell.ZMQInteractiveShell object at 0x7fac6139f240>>,\n",
       " 'exit': <IPython.core.autocall.ZMQExitAutocall at 0x7fac60380128>,\n",
       " 'quit': <IPython.core.autocall.ZMQExitAutocall at 0x7fac60380128>,\n",
       " '_': '',\n",
       " '__': '',\n",
       " '___': '',\n",
       " '_i': 'mfce3(10, 20)',\n",
       " '_ii': 'def mfce3(a, b):\\n    print(locals())',\n",
       " '_iii': 'mfce2(b=10, c=100)',\n",
       " '_i1': 'def mfce(a, b, c):\\n    print(a+b+c)',\n",
       " 'mfce': <function __main__.mfce(a, b, c)>,\n",
       " '_i2': 'mfce(1,2,3)',\n",
       " '_i3': 'def mfce2(a, b=3, c=4):\\n    print(a+b+c)',\n",
       " 'mfce2': <function __main__.mfce2(a, b=3, c=4)>,\n",
       " '_i4': 'mfce2(10)',\n",
       " '_i5': 'mfce2(10, 2)',\n",
       " '_i6': 'mfce()',\n",
       " '_i7': 'mfce2()',\n",
       " '_i8': 'mfce2(10, c=100)',\n",
       " '_i9': 'mfce2(b=10, c=100, a=1000)',\n",
       " '_i10': 'mfce2(b=10, c=100)',\n",
       " '_i11': 'def mfce3(a, b):\\n    print(locals())',\n",
       " 'mfce3': <function __main__.mfce3(a, b)>,\n",
       " '_i12': 'mfce3(10, 20)',\n",
       " '_i13': 'locals()'}"
      ]
     },
     "execution_count": 13,
     "metadata": {},
     "output_type": "execute_result"
    }
   ],
   "source": [
    "locals()"
   ]
  },
  {
   "cell_type": "code",
   "execution_count": null,
   "metadata": {},
   "outputs": [],
   "source": []
  }
 ],
 "metadata": {
  "kernelspec": {
   "display_name": "Python [conda env:anaconda3]",
   "language": "python",
   "name": "conda-env-anaconda3-py"
  },
  "language_info": {
   "codemirror_mode": {
    "name": "ipython",
    "version": 3
   },
   "file_extension": ".py",
   "mimetype": "text/x-python",
   "name": "python",
   "nbconvert_exporter": "python",
   "pygments_lexer": "ipython3",
   "version": "3.6.6"
  }
 },
 "nbformat": 4,
 "nbformat_minor": 2
}
